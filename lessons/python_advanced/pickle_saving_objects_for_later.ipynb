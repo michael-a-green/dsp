{
 "cells": [
  {
   "cell_type": "code",
   "execution_count": 1,
   "metadata": {},
   "outputs": [
    {
     "name": "stdout",
     "output_type": "stream",
     "text": [
      "Python Version: 3.7.3 (default, Mar 27 2019, 22:11:17) \n",
      "[GCC 7.3.0] \n",
      "\n"
     ]
    }
   ],
   "source": [
    "import sys\n",
    "print(\"Python Version:\", sys.version, '\\n')"
   ]
  },
  {
   "cell_type": "markdown",
   "metadata": {},
   "source": [
    "# Pickle: Saving Objects for Later"
   ]
  },
  {
   "cell_type": "markdown",
   "metadata": {},
   "source": [
    "Often in data science, we'll create some model or some version of our data and want to use it later. We have many options - we can save the coefficients, or save the data to csv, or...\n",
    "\n",
    "Actually, we don't have that many options. \n",
    "\n",
    "One way to overcome that is to save the python object to a file as a serialized object. That means we convert the entire object to a bunch of bytes, save those bytes into a file, and then have the ability to unpack those bytes back into their original format later. \n",
    "\n",
    "This is done by a module called `pickle`. Let's see it in action."
   ]
  },
  {
   "cell_type": "code",
   "execution_count": 2,
   "metadata": {},
   "outputs": [],
   "source": [
    "import pickle\n",
    "import random\n",
    "\n",
    "lots_of_noise = {\n",
    "    'CA': [random.randint(0,65) for _ in range(100)],\n",
    "    'IL': [random.randint(0,65) for _ in range(50)],\n",
    "    'NY': [random.randint(0,65) for _ in range(90)],\n",
    "    'WA': [random.randint(0,65) for _ in range(33)]\n",
    "}"
   ]
  },
  {
   "cell_type": "code",
   "execution_count": 3,
   "metadata": {},
   "outputs": [
    {
     "name": "stdout",
     "output_type": "stream",
     "text": [
      "{'CA': [48, 30, 50, 57, 14, 25, 27, 3, 13, 12, 58, 1, 63, 9, 60, 15, 53, 64, 4, 18, 26, 48, 13, 50, 51, 21, 26, 60, 37, 28, 56, 54, 54, 14, 45, 12, 14, 8, 25, 33, 22, 20, 32, 7, 39, 15, 12, 17, 22, 46, 56, 3, 22, 26, 13, 10, 62, 3, 59, 54, 15, 54, 55, 62, 47, 58, 20, 3, 0, 12, 35, 24, 35, 28, 56, 34, 11, 62, 42, 59, 7, 0, 41, 33, 13, 21, 7, 32, 10, 31, 47, 46, 12, 44, 64, 31, 23, 57, 57, 1], 'IL': [34, 7, 24, 20, 29, 49, 0, 30, 13, 37, 14, 46, 60, 49, 60, 47, 20, 20, 19, 4, 40, 61, 62, 44, 46, 12, 18, 32, 14, 57, 29, 32, 12, 26, 57, 64, 4, 54, 23, 25, 53, 14, 48, 42, 30, 57, 63, 17, 19, 29], 'NY': [3, 18, 59, 42, 30, 40, 34, 64, 5, 36, 47, 5, 16, 52, 38, 52, 45, 60, 52, 51, 52, 49, 52, 53, 31, 3, 9, 28, 39, 47, 55, 59, 1, 32, 43, 1, 40, 7, 33, 22, 59, 40, 41, 36, 63, 8, 43, 33, 58, 7, 5, 58, 61, 57, 19, 12, 45, 65, 38, 65, 43, 6, 23, 55, 38, 55, 63, 36, 17, 37, 17, 19, 37, 37, 3, 41, 20, 52, 62, 61, 6, 20, 22, 22, 51, 16, 46, 61, 49, 57], 'WA': [2, 35, 26, 19, 3, 41, 17, 13, 41, 63, 61, 47, 9, 21, 6, 65, 3, 27, 38, 21, 24, 24, 43, 65, 57, 48, 59, 11, 49, 56, 63, 0, 65]}\n"
     ]
    }
   ],
   "source": [
    "print(lots_of_noise)"
   ]
  },
  {
   "cell_type": "code",
   "execution_count": 4,
   "metadata": {},
   "outputs": [
    {
     "name": "stdout",
     "output_type": "stream",
     "text": [
      "Variable        Type      Data/Info\n",
      "-----------------------------------\n",
      "lots_of_noise   dict      n=4\n",
      "pickle          module    <module 'pickle' from '/o<...>lib/python3.7/pickle.py'>\n",
      "random          module    <module 'random' from '/o<...>lib/python3.7/random.py'>\n"
     ]
    }
   ],
   "source": [
    "whos"
   ]
  },
  {
   "cell_type": "markdown",
   "metadata": {},
   "source": [
    "We can see in this `whos` command that the object `lots_of_noise` exists and is a `dict` with 4 keys. Nice. Now let's look at our file system and verify that there isn't a file called `noise.pickle`."
   ]
  },
  {
   "cell_type": "code",
   "execution_count": 5,
   "metadata": {},
   "outputs": [
    {
     "name": "stdout",
     "output_type": "stream",
     "text": [
      "advanced_python_datatypes.ipynb  my_dataframe.pickle\r\n",
      "complexity.md\t\t\t noise.pickle\r\n",
      "deep_and_shallow_copy.ipynb\t pickle_saving_objects_for_later.ipynb\r\n",
      "deep_copy_demo\t\t\t readme.md\r\n"
     ]
    }
   ],
   "source": [
    "!ls"
   ]
  },
  {
   "cell_type": "markdown",
   "metadata": {},
   "source": [
    "Okay, now we're ready to create a file and write the bytes to it. To do this with `pickle`, we use python's read-write streamer `open` and create a writable-binary (`wb`) file. We'll then use `pickle.dump` to put an object into that file as a string of bytes."
   ]
  },
  {
   "cell_type": "code",
   "execution_count": 6,
   "metadata": {},
   "outputs": [],
   "source": [
    "with open('noise.pickle', 'wb') as to_write:\n",
    "    pickle.dump(lots_of_noise, to_write)"
   ]
  },
  {
   "cell_type": "code",
   "execution_count": 7,
   "metadata": {},
   "outputs": [
    {
     "name": "stdout",
     "output_type": "stream",
     "text": [
      "advanced_python_datatypes.ipynb  my_dataframe.pickle\r\n",
      "complexity.md\t\t\t noise.pickle\r\n",
      "deep_and_shallow_copy.ipynb\t pickle_saving_objects_for_later.ipynb\r\n",
      "deep_copy_demo\t\t\t readme.md\r\n"
     ]
    }
   ],
   "source": [
    "!ls"
   ]
  },
  {
   "cell_type": "markdown",
   "metadata": {},
   "source": [
    "Now let's delete `lots_of_noise` and prove to ourselves it doesn't exist in Python's memory anymore."
   ]
  },
  {
   "cell_type": "code",
   "execution_count": 8,
   "metadata": {},
   "outputs": [],
   "source": [
    "del lots_of_noise"
   ]
  },
  {
   "cell_type": "code",
   "execution_count": 9,
   "metadata": {},
   "outputs": [
    {
     "name": "stdout",
     "output_type": "stream",
     "text": [
      "Variable   Type              Data/Info\n",
      "--------------------------------------\n",
      "pickle     module            <module 'pickle' from '/o<...>lib/python3.7/pickle.py'>\n",
      "random     module            <module 'random' from '/o<...>lib/python3.7/random.py'>\n",
      "to_write   BufferedWriter    <_io.BufferedWriter name='noise.pickle'>\n"
     ]
    }
   ],
   "source": [
    "whos"
   ]
  },
  {
   "cell_type": "code",
   "execution_count": 10,
   "metadata": {},
   "outputs": [
    {
     "ename": "NameError",
     "evalue": "name 'lots_of_noise' is not defined",
     "output_type": "error",
     "traceback": [
      "\u001b[0;31m---------------------------------------------------------------------------\u001b[0m",
      "\u001b[0;31mNameError\u001b[0m                                 Traceback (most recent call last)",
      "\u001b[0;32m<ipython-input-10-69f22b4d5ca8>\u001b[0m in \u001b[0;36m<module>\u001b[0;34m\u001b[0m\n\u001b[0;32m----> 1\u001b[0;31m \u001b[0mprint\u001b[0m\u001b[0;34m(\u001b[0m\u001b[0mlots_of_noise\u001b[0m\u001b[0;34m)\u001b[0m\u001b[0;34m\u001b[0m\u001b[0;34m\u001b[0m\u001b[0m\n\u001b[0m",
      "\u001b[0;31mNameError\u001b[0m: name 'lots_of_noise' is not defined"
     ]
    }
   ],
   "source": [
    "print(lots_of_noise)"
   ]
  },
  {
   "cell_type": "markdown",
   "metadata": {},
   "source": [
    "Lovely. It's dead forever. Or is it?\n",
    "\n",
    "Let's open that `noise.pickle` file with read-binary (`rb`) mode. Then we'll ask pickle to retrieve the file with `pickle.load` and store it back in a variable."
   ]
  },
  {
   "cell_type": "code",
   "execution_count": 11,
   "metadata": {},
   "outputs": [],
   "source": [
    "with open('noise.pickle','rb') as read_file:\n",
    "    new_noise = pickle.load(read_file)"
   ]
  },
  {
   "cell_type": "code",
   "execution_count": 12,
   "metadata": {},
   "outputs": [
    {
     "name": "stdout",
     "output_type": "stream",
     "text": [
      "{'CA': [48, 30, 50, 57, 14, 25, 27, 3, 13, 12, 58, 1, 63, 9, 60, 15, 53, 64, 4, 18, 26, 48, 13, 50, 51, 21, 26, 60, 37, 28, 56, 54, 54, 14, 45, 12, 14, 8, 25, 33, 22, 20, 32, 7, 39, 15, 12, 17, 22, 46, 56, 3, 22, 26, 13, 10, 62, 3, 59, 54, 15, 54, 55, 62, 47, 58, 20, 3, 0, 12, 35, 24, 35, 28, 56, 34, 11, 62, 42, 59, 7, 0, 41, 33, 13, 21, 7, 32, 10, 31, 47, 46, 12, 44, 64, 31, 23, 57, 57, 1], 'IL': [34, 7, 24, 20, 29, 49, 0, 30, 13, 37, 14, 46, 60, 49, 60, 47, 20, 20, 19, 4, 40, 61, 62, 44, 46, 12, 18, 32, 14, 57, 29, 32, 12, 26, 57, 64, 4, 54, 23, 25, 53, 14, 48, 42, 30, 57, 63, 17, 19, 29], 'NY': [3, 18, 59, 42, 30, 40, 34, 64, 5, 36, 47, 5, 16, 52, 38, 52, 45, 60, 52, 51, 52, 49, 52, 53, 31, 3, 9, 28, 39, 47, 55, 59, 1, 32, 43, 1, 40, 7, 33, 22, 59, 40, 41, 36, 63, 8, 43, 33, 58, 7, 5, 58, 61, 57, 19, 12, 45, 65, 38, 65, 43, 6, 23, 55, 38, 55, 63, 36, 17, 37, 17, 19, 37, 37, 3, 41, 20, 52, 62, 61, 6, 20, 22, 22, 51, 16, 46, 61, 49, 57], 'WA': [2, 35, 26, 19, 3, 41, 17, 13, 41, 63, 61, 47, 9, 21, 6, 65, 3, 27, 38, 21, 24, 24, 43, 65, 57, 48, 59, 11, 49, 56, 63, 0, 65]}\n"
     ]
    }
   ],
   "source": [
    "print(new_noise)"
   ]
  },
  {
   "cell_type": "code",
   "execution_count": 13,
   "metadata": {},
   "outputs": [
    {
     "name": "stdout",
     "output_type": "stream",
     "text": [
      "Variable    Type              Data/Info\n",
      "---------------------------------------\n",
      "new_noise   dict              n=4\n",
      "pickle      module            <module 'pickle' from '/o<...>lib/python3.7/pickle.py'>\n",
      "random      module            <module 'random' from '/o<...>lib/python3.7/random.py'>\n",
      "read_file   BufferedReader    <_io.BufferedReader name='noise.pickle'>\n",
      "to_write    BufferedWriter    <_io.BufferedWriter name='noise.pickle'>\n"
     ]
    }
   ],
   "source": [
    "whos"
   ]
  },
  {
   "cell_type": "markdown",
   "metadata": {},
   "source": [
    "Random noise lives! We retrieved the entire structure from file. Nice."
   ]
  },
  {
   "cell_type": "markdown",
   "metadata": {},
   "source": [
    "### Okay, but I don't use dictionaries... I use pandas."
   ]
  },
  {
   "cell_type": "code",
   "execution_count": 14,
   "metadata": {},
   "outputs": [
    {
     "data": {
      "text/html": [
       "<div>\n",
       "<style scoped>\n",
       "    .dataframe tbody tr th:only-of-type {\n",
       "        vertical-align: middle;\n",
       "    }\n",
       "\n",
       "    .dataframe tbody tr th {\n",
       "        vertical-align: top;\n",
       "    }\n",
       "\n",
       "    .dataframe thead th {\n",
       "        text-align: right;\n",
       "    }\n",
       "</style>\n",
       "<table border=\"1\" class=\"dataframe\">\n",
       "  <thead>\n",
       "    <tr style=\"text-align: right;\">\n",
       "      <th></th>\n",
       "      <th>Yay</th>\n",
       "      <th>specific</th>\n",
       "      <th>column</th>\n",
       "      <th>names</th>\n",
       "    </tr>\n",
       "  </thead>\n",
       "  <tbody>\n",
       "    <tr>\n",
       "      <th>0</th>\n",
       "      <td>4.041502</td>\n",
       "      <td>-2.865488</td>\n",
       "      <td>-4.661332</td>\n",
       "      <td>2.387080</td>\n",
       "    </tr>\n",
       "    <tr>\n",
       "      <th>1</th>\n",
       "      <td>1.602666</td>\n",
       "      <td>7.903970</td>\n",
       "      <td>2.795821</td>\n",
       "      <td>-0.249229</td>\n",
       "    </tr>\n",
       "    <tr>\n",
       "      <th>2</th>\n",
       "      <td>-2.820670</td>\n",
       "      <td>-1.985678</td>\n",
       "      <td>3.944115</td>\n",
       "      <td>-3.128987</td>\n",
       "    </tr>\n",
       "    <tr>\n",
       "      <th>3</th>\n",
       "      <td>8.791921</td>\n",
       "      <td>-5.686492</td>\n",
       "      <td>8.506740</td>\n",
       "      <td>-4.589180</td>\n",
       "    </tr>\n",
       "    <tr>\n",
       "      <th>4</th>\n",
       "      <td>-0.073505</td>\n",
       "      <td>6.637892</td>\n",
       "      <td>9.433890</td>\n",
       "      <td>5.607647</td>\n",
       "    </tr>\n",
       "  </tbody>\n",
       "</table>\n",
       "</div>"
      ],
      "text/plain": [
       "        Yay  specific    column     names\n",
       "0  4.041502 -2.865488 -4.661332  2.387080\n",
       "1  1.602666  7.903970  2.795821 -0.249229\n",
       "2 -2.820670 -1.985678  3.944115 -3.128987\n",
       "3  8.791921 -5.686492  8.506740 -4.589180\n",
       "4 -0.073505  6.637892  9.433890  5.607647"
      ]
     },
     "execution_count": 14,
     "metadata": {},
     "output_type": "execute_result"
    }
   ],
   "source": [
    "import pandas as pd\n",
    "import numpy as np\n",
    "\n",
    "df = pd.DataFrame(np.random.uniform(-10,10, size=(100,4)), columns=['Yay','specific','column','names'])\n",
    "df.head(5)"
   ]
  },
  {
   "cell_type": "code",
   "execution_count": 15,
   "metadata": {},
   "outputs": [],
   "source": [
    "with open('my_dataframe.pickle', 'wb') as to_write:\n",
    "    pickle.dump(df, to_write)"
   ]
  },
  {
   "cell_type": "code",
   "execution_count": 16,
   "metadata": {},
   "outputs": [
    {
     "ename": "NameError",
     "evalue": "name 'df' is not defined",
     "output_type": "error",
     "traceback": [
      "\u001b[0;31m---------------------------------------------------------------------------\u001b[0m",
      "\u001b[0;31mNameError\u001b[0m                                 Traceback (most recent call last)",
      "\u001b[0;32m<ipython-input-16-3975f6306adf>\u001b[0m in \u001b[0;36m<module>\u001b[0;34m\u001b[0m\n\u001b[1;32m      1\u001b[0m \u001b[0;32mdel\u001b[0m \u001b[0mdf\u001b[0m\u001b[0;34m\u001b[0m\u001b[0;34m\u001b[0m\u001b[0m\n\u001b[1;32m      2\u001b[0m \u001b[0;34m\u001b[0m\u001b[0m\n\u001b[0;32m----> 3\u001b[0;31m \u001b[0mdf\u001b[0m\u001b[0;34m.\u001b[0m\u001b[0mhead\u001b[0m\u001b[0;34m(\u001b[0m\u001b[0;36m5\u001b[0m\u001b[0;34m)\u001b[0m\u001b[0;34m\u001b[0m\u001b[0;34m\u001b[0m\u001b[0m\n\u001b[0m",
      "\u001b[0;31mNameError\u001b[0m: name 'df' is not defined"
     ]
    }
   ],
   "source": [
    "del df\n",
    "\n",
    "df.head(5)"
   ]
  },
  {
   "cell_type": "code",
   "execution_count": 17,
   "metadata": {},
   "outputs": [
    {
     "data": {
      "text/html": [
       "<div>\n",
       "<style scoped>\n",
       "    .dataframe tbody tr th:only-of-type {\n",
       "        vertical-align: middle;\n",
       "    }\n",
       "\n",
       "    .dataframe tbody tr th {\n",
       "        vertical-align: top;\n",
       "    }\n",
       "\n",
       "    .dataframe thead th {\n",
       "        text-align: right;\n",
       "    }\n",
       "</style>\n",
       "<table border=\"1\" class=\"dataframe\">\n",
       "  <thead>\n",
       "    <tr style=\"text-align: right;\">\n",
       "      <th></th>\n",
       "      <th>Yay</th>\n",
       "      <th>specific</th>\n",
       "      <th>column</th>\n",
       "      <th>names</th>\n",
       "    </tr>\n",
       "  </thead>\n",
       "  <tbody>\n",
       "    <tr>\n",
       "      <th>0</th>\n",
       "      <td>4.041502</td>\n",
       "      <td>-2.865488</td>\n",
       "      <td>-4.661332</td>\n",
       "      <td>2.387080</td>\n",
       "    </tr>\n",
       "    <tr>\n",
       "      <th>1</th>\n",
       "      <td>1.602666</td>\n",
       "      <td>7.903970</td>\n",
       "      <td>2.795821</td>\n",
       "      <td>-0.249229</td>\n",
       "    </tr>\n",
       "    <tr>\n",
       "      <th>2</th>\n",
       "      <td>-2.820670</td>\n",
       "      <td>-1.985678</td>\n",
       "      <td>3.944115</td>\n",
       "      <td>-3.128987</td>\n",
       "    </tr>\n",
       "    <tr>\n",
       "      <th>3</th>\n",
       "      <td>8.791921</td>\n",
       "      <td>-5.686492</td>\n",
       "      <td>8.506740</td>\n",
       "      <td>-4.589180</td>\n",
       "    </tr>\n",
       "    <tr>\n",
       "      <th>4</th>\n",
       "      <td>-0.073505</td>\n",
       "      <td>6.637892</td>\n",
       "      <td>9.433890</td>\n",
       "      <td>5.607647</td>\n",
       "    </tr>\n",
       "  </tbody>\n",
       "</table>\n",
       "</div>"
      ],
      "text/plain": [
       "        Yay  specific    column     names\n",
       "0  4.041502 -2.865488 -4.661332  2.387080\n",
       "1  1.602666  7.903970  2.795821 -0.249229\n",
       "2 -2.820670 -1.985678  3.944115 -3.128987\n",
       "3  8.791921 -5.686492  8.506740 -4.589180\n",
       "4 -0.073505  6.637892  9.433890  5.607647"
      ]
     },
     "execution_count": 17,
     "metadata": {},
     "output_type": "execute_result"
    }
   ],
   "source": [
    "with open('my_dataframe.pickle','rb') as read_file:\n",
    "    new_df = pickle.load(read_file)\n",
    "    \n",
    "new_df.head(5)"
   ]
  },
  {
   "cell_type": "markdown",
   "metadata": {},
   "source": [
    "Pickle is a great tool. One recommended way of using it is to make it an end point of every step in your process. Example:\n",
    "\n",
    "* I got my data! Nice. Pickle it and stop your \"getting the data\" notebook.\n",
    "* Load your data from pickle. Clean it. Save your clean data to a new pickle.\n",
    "* Load your cleaned_data pickle. Do analysis and visualize it.\n",
    "\n",
    "This can provide natural \"pick-up-where-I-left-off-but-before-I-broke-my-data\" points. It's a great way to control the flow of your data.\n",
    "\n",
    "#### Resources\n",
    "\n",
    "https://docs.python.org/3.7/library/pickle.html"
   ]
  },
  {
   "cell_type": "code",
   "execution_count": null,
   "metadata": {},
   "outputs": [],
   "source": []
  }
 ],
 "metadata": {
  "kernelspec": {
   "display_name": "Python 3",
   "language": "python",
   "name": "python3"
  },
  "language_info": {
   "codemirror_mode": {
    "name": "ipython",
    "version": 3
   },
   "file_extension": ".py",
   "mimetype": "text/x-python",
   "name": "python",
   "nbconvert_exporter": "python",
   "pygments_lexer": "ipython3",
   "version": "3.7.3"
  }
 },
 "nbformat": 4,
 "nbformat_minor": 1
}
